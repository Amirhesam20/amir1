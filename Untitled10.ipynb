{
  "nbformat": 4,
  "nbformat_minor": 0,
  "metadata": {
    "colab": {
      "provenance": [],
      "authorship_tag": "ABX9TyNpGO741w8d0TeWsZ9Ntv/Y",
      "include_colab_link": true
    },
    "kernelspec": {
      "name": "python3",
      "display_name": "Python 3"
    },
    "language_info": {
      "name": "python"
    }
  },
  "cells": [
    {
      "cell_type": "markdown",
      "metadata": {
        "id": "view-in-github",
        "colab_type": "text"
      },
      "source": [
        "<a href=\"https://colab.research.google.com/github/Amirhesam20/amir1/blob/main/Untitled10.ipynb\" target=\"_parent\"><img src=\"https://colab.research.google.com/assets/colab-badge.svg\" alt=\"Open In Colab\"/></a>"
      ]
    },
    {
      "cell_type": "code",
      "execution_count": null,
      "metadata": {
        "id": "JcvL9u9FNFlk"
      },
      "outputs": [],
      "source": [
        "class Clock:\n",
        "\n",
        "    def __init__(self, type, price, color, time, weight):\n",
        "        self.type = type\n",
        "        self.price = price\n",
        "        self.color = color\n",
        "        self.time = time\n",
        "        self.weight = weight\n",
        "\n",
        "    def get_type(self):\n",
        "        return self.type\n",
        "\n",
        "    def get_price(self):\n",
        "        return self.price\n",
        "\n",
        "    def get_color(self):\n",
        "        return self.color\n",
        "\n",
        "    def get_time(self):\n",
        "        return self.time\n",
        "\n",
        "    def get_weight(self):\n",
        "        return self.weight\n",
        "\n",
        "    def set_type(self, new_type):\n",
        "        self.type = new_type\n",
        "\n",
        "    def set_price(self, new_price):\n",
        "        self.price = new_price\n",
        "\n",
        "    def set_color(self, new_color):\n",
        "        self.color = new_color\n",
        "\n",
        "    def set_time(self, new_time):\n",
        "        self.time = new_time\n",
        "\n",
        "    def set_weight(self, new_weight):\n",
        "        self.weight = new_weight\n",
        "\n",
        "    def random(clocks):\n",
        "        for clock in clocks:\n",
        "            clock.set_type(\"Hacked clock\")\n",
        "            clock.set_price(random.randint(1, 1000))\n",
        "            clock.set_color(random.randint(1, 100))\n",
        "            clock.set_time(random.randint(1, 50))\n",
        "            clock.set_weight(random.randint(1, 20))\n",
        "\n",
        "    def create_clocks():\n",
        "        clocks = []\n",
        "        for i in range(20):\n",
        "            new_clock = Clock(f'clock{i}', i*100, i*10, i*5, i*20)\n",
        "            clocks.append(new_clock)\n",
        "        return clocks\n",
        "\n",
        "    def sort_clocks(clocks):\n",
        "        sorted_clocks = sorted(clocks, key=lambda x: (x.weight, x.color, x.time))\n",
        "        for clock in sorted_clocks:\n",
        "            print(f'type:{clock.get_type()}, weight:{clock.get_weight()}, color:{clock.get_color()}, price:{clock.get_price()}, time:{clock.get_time()}')\n",
        "\n",
        "clocks = Clock.create_clocks()\n",
        "Clock.sort_clocks(clocks)"
      ]
    }
  ]
}