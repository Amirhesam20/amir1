{
  "nbformat": 4,
  "nbformat_minor": 0,
  "metadata": {
    "colab": {
      "provenance": [],
      "authorship_tag": "ABX9TyOF2VyCOEkuYUfVqEExV43G",
      "include_colab_link": true
    },
    "kernelspec": {
      "name": "python3",
      "display_name": "Python 3"
    },
    "language_info": {
      "name": "python"
    }
  },
  "cells": [
    {
      "cell_type": "markdown",
      "metadata": {
        "id": "view-in-github",
        "colab_type": "text"
      },
      "source": [
        "<a href=\"https://colab.research.google.com/github/Amirhesam20/amir1/blob/main/Untitled7.ipynb\" target=\"_parent\"><img src=\"https://colab.research.google.com/assets/colab-badge.svg\" alt=\"Open In Colab\"/></a>"
      ]
    },
    {
      "cell_type": "code",
      "execution_count": null,
      "metadata": {
        "id": "JcvL9u9FNFlk"
      },
      "outputs": [],
      "source": [
        "{\n",
        "  \"nbformat\": 4,\n",
        "  \"nbformat_minor\": 0,\n",
        "  \"metadata\": {\n",
        "    \"colab\": {\n",
        "      \"provenance\": [],\n",
        "      \"authorship_tag\": \"ABX9TyO5861rU4YP9RqXA8pnAaix\",\n",
        "      \"include_colab_link\": true\n",
        "    },\n",
        "    \"kernelspec\": {\n",
        "      \"name\": \"python3\",\n",
        "      \"display_name\": \"Python 3\"\n",
        "    },\n",
        "    \"language_info\": {\n",
        "      \"name\": \"python\"\n",
        "    }\n",
        "  },\n",
        "  \"cells\": [\n",
        "    {\n",
        "      \"cell_type\": \"markdown\",\n",
        "      \"metadata\": {\n",
        "        \"id\": \"view-in-github\",\n",
        "        \"colab_type\": \"text\"\n",
        "      },\n",
        "      \"source\": [\n",
        "        \"<a href=\\\"https://colab.research.google.com/github/ghreza2003/colab/blob/main/%D8%AA%D8%A7%D8%A8%D8%B9\\\" target=\\\"_parent\\\"><img src=\\\"https://colab.research.google.com/assets/colab-badge.svg\\\" alt=\\\"Open In Colab\\\"/></a>\"\n",
        "      ]\n",
        "    },\n",
        "    {\n",
        "      \"cell_type\": \"code\",\n",
        "      \"source\": [\n",
        "        \"\\n\",\n",
        "        \"\\n\",\n",
        "        \"class student:\\n\",\n",
        "        \"    def __init__(self,id=1111,name='reza'):\\n\",\n",
        "        \"          self.id=id\\n\",\n",
        "        \"          self.name=name\\n\",\n",
        "        \"    def __del__(self):\\n\",\n",
        "        \"          print(self.name,'deleted')\\n\",\n",
        "        \"    def  mean(self) :\\n\",\n",
        "        \"         s1=int(input ())\\n\",\n",
        "        \"         s2=int(input())\\n\",\n",
        "        \"         sum=s1+s2\\n\",\n",
        "        \"         return sum/2\\n\",\n",
        "        \"    def is_mashroot(self):\\n\",\n",
        "        \"         if self.mean() <12:\\n\",\n",
        "        \"           return True\\n\",\n",
        "        \"\\n\",\n",
        "        \"         else:\\n\",\n",
        "        \"           return False\\n\",\n",
        "        \"    def __str__(self) :\\n\",\n",
        "        \"        print('this calss is student calss')\\n\",\n",
        "        \"\"\n",
        "      ],\n",
        "      \"metadata\": {\n",
        "        \"id\": \"9Q0LvDUPUyI1\"\n",
        "      },\n",
        "      \"execution_count\": null,\n",
        "      \"outputs\": []\n",
        "    }\n",
        "  ]\n",
        "}"
      ]
    }
  ]
}