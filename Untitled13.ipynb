{
  "nbformat": 4,
  "nbformat_minor": 0,
  "metadata": {
    "colab": {
      "provenance": [],
      "authorship_tag": "ABX9TyNvDKjDVONpZ8jEDrKKfFMT",
      "include_colab_link": true
    },
    "kernelspec": {
      "name": "python3",
      "display_name": "Python 3"
    },
    "language_info": {
      "name": "python"
    }
  },
  "cells": [
    {
      "cell_type": "markdown",
      "metadata": {
        "id": "view-in-github",
        "colab_type": "text"
      },
      "source": [
        "<a href=\"https://colab.research.google.com/github/Amirhesam20/amir1/blob/main/Untitled13.ipynb\" target=\"_parent\"><img src=\"https://colab.research.google.com/assets/colab-badge.svg\" alt=\"Open In Colab\"/></a>"
      ]
    },
    {
      "cell_type": "code",
      "execution_count": null,
      "metadata": {
        "id": "JcvL9u9FNFlk"
      },
      "outputs": [],
      "source": [
        "#تابع بنویسید که از ورودی خود لیستی را از اعداد گرفته آنگاه بزرگترین و کوچیکترین به همراه تعداد تکرارشان ب خروجی خود ارسال کند\n",
        "def count(L):\n",
        "   L.sirt()\n",
        "   Cout_min=L.count (L[0])\n",
        "   Cout_man=L.count (L[-1])\n",
        "   return L [-1] , L[0], count"
      ]
    }
  ]
}