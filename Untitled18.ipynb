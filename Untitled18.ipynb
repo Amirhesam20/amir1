{
  "nbformat": 4,
  "nbformat_minor": 0,
  "metadata": {
    "colab": {
      "provenance": [],
      "authorship_tag": "ABX9TyNnJmOTsrprGWDirgVYdJPF",
      "include_colab_link": true
    },
    "kernelspec": {
      "name": "python3",
      "display_name": "Python 3"
    },
    "language_info": {
      "name": "python"
    }
  },
  "cells": [
    {
      "cell_type": "markdown",
      "metadata": {
        "id": "view-in-github",
        "colab_type": "text"
      },
      "source": [
        "<a href=\"https://colab.research.google.com/github/Amirhesam20/amir1/blob/main/Untitled18.ipynb\" target=\"_parent\"><img src=\"https://colab.research.google.com/assets/colab-badge.svg\" alt=\"Open In Colab\"/></a>"
      ]
    },
    {
      "cell_type": "code",
      "execution_count": null,
      "metadata": {
        "id": "JcvL9u9FNFlk"
      },
      "outputs": [],
      "source": [
        "\n",
        "class brand:\n",
        "     Brand1='Amazon'\n",
        "     Brand2='ebay'\n",
        "     Brand3='olx'\n",
        "class product:\n",
        "      Prod1=\"online e comment\"\n",
        "      prod2=\"online stre\"\n",
        "      Prod3='online buy'\n",
        "class popularity (brand, product):\n",
        "      prod1pop=100\n",
        "      Prod2pop=70\n",
        "      prod3pop=50\n",
        "obj= popularity()\n",
        "print(obj.Brand1+'is a' +obj.Prod1)"
      ]
    }
  ]
}