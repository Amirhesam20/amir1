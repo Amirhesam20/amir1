{
  "nbformat": 4,
  "nbformat_minor": 0,
  "metadata": {
    "colab": {
      "provenance": [],
      "authorship_tag": "ABX9TyOJ5+iTSKKnlkNt6iWPPrEE",
      "include_colab_link": true
    },
    "kernelspec": {
      "name": "python3",
      "display_name": "Python 3"
    },
    "language_info": {
      "name": "python"
    }
  },
  "cells": [
    {
      "cell_type": "markdown",
      "metadata": {
        "id": "view-in-github",
        "colab_type": "text"
      },
      "source": [
        "<a href=\"https://colab.research.google.com/github/Amirhesam20/amir1/blob/main/Copy_of_Untitled5.ipynb\" target=\"_parent\"><img src=\"https://colab.research.google.com/assets/colab-badge.svg\" alt=\"Open In Colab\"/></a>"
      ]
    },
    {
      "cell_type": "code",
      "execution_count": null,
      "metadata": {
        "colab": {
          "base_uri": "https://localhost:8080/"
        },
        "id": "MnUcpSxG5nUj",
        "outputId": "ab8c6216-342a-4e22-82cd-e23491c0cb9b"
      },
      "outputs": [
        {
          "output_type": "stream",
          "name": "stdout",
          "text": [
            "hi\n"
          ]
        }
      ],
      "source": [
        "{\n",
        "  \"nbformat\": 4,\n",
        "  \"nbformat_minor\": 0,\n",
        "  \"metadata\": {\n",
        "    \"colab\": {\n",
        "      \"provenance\": [],\n",
        "      \"authorship_tag\": \"ABX9TyOOJM4hKghIo7Nr+B0zf2wj\",\n",
        "      \"include_colab_link\": true\n",
        "    },\n",
        "    \"kernelspec\": {\n",
        "      \"name\": \"python3\",\n",
        "      \"display_name\": \"Python 3\"\n",
        "    },\n",
        "    \"language_info\": {\n",
        "      \"name\": \"python\"\n",
        "    }\n",
        "  },\n",
        "  \"cells\": [\n",
        "    {\n",
        "      \"cell_type\": \"markdown\",\n",
        "      \"metadata\": {\n",
        "        \"id\": \"view-in-github\",\n",
        "        \"colab_type\": \"text\"\n",
        "      },\n",
        "      \"source\": [\n",
        "        \"<a href=\\\"https://colab.research.google.com/github/ghreza2003/colab/blob/main/%D9%85%D8%AA%D8%AF%20%D9%87%D8%A7\\\" target=\\\"_parent\\\"><img src=\\\"https://colab.research.google.com/assets/colab-badge.svg\\\" alt=\\\"Open In Colab\\\"/></a>\"\n",
        "      ]\n",
        "    },\n",
        "    {\n",
        "      \"cell_type\": \"code\",\n",
        "      \"source\": [\n",
        "        \"\\n\",\n",
        "        \"#METOD WHITH IS\\n\",\n",
        "        \"# Rozhan Ganavati\\n\",\n",
        "        \"\\n\",\n",
        "        \"#isalpha #چک میکند که تمام کاراکترهای رشته حروف باشند\\n\",\n",
        "        \"#txt = \\\"HELLO\\\"\\n\",\n",
        "        \"#txt.isalpha()\\n\",\n",
        "        \"# True\\n\",\n",
        "        \"\\n\",\n",
        "        \"#--------------------------------------------------------------------------\\n\",\n",
        "        \"\\n\",\n",
        "        \"#isalnum #چک میکند که تمام کاراکترهای رشته ترکیب عدد و حروف باشند\\n\",\n",
        "        \"#txt = \\\"hello44\\\"\\n\",\n",
        "        \"#txt.isalnum()\\n\",\n",
        "        \"# True\\n\",\n",
        "        \"\\n\",\n",
        "        \"#txt = \\\"hello 44\\\"\\n\",\n",
        "        \"#txt.isalnum()\\n\",\n",
        "        \"# False\\n\",\n",
        "        \"\\n\",\n",
        "        \"#---------------------------------------------------------------------------\\n\",\n",
        "        \"\\n\",\n",
        "        \"#isdigit #چک میکند که تمام کاراکترهای رشته عدد باشند\\n\",\n",
        "        \"#a = \\\"50800\\\"\\n\",\n",
        "        \"#b = \\\"50800a\\\"\\n\",\n",
        "        \"#a.isdigit() #True\\n\",\n",
        "        \"#b.isdigit() #False\\n\",\n",
        "        \"\\n\",\n",
        "        \"#-----------------------------------------------------------------------------\\n\",\n",
        "        \"\\n\",\n",
        "        \"#islower #چک میکند که تمام حروف رشته کوچک باشند\\n\",\n",
        "        \"#a = \\\"Hello world\\\"\\n\",\n",
        "        \"#b = \\\"hello 123\\\"\\n\",\n",
        "        \"\\n\",\n",
        "        \"#a.islower() # False\\n\",\n",
        "        \"#b.islower() # True\\n\",\n",
        "        \"\\n\",\n",
        "        \"#------------------------------------------------------------------------------\\n\",\n",
        "        \"\\n\",\n",
        "        \"#isprintable #چک میکند که تمام حروف رشته قایل پرینت باشند\\n\",\n",
        "        \"#txt = \\\"Hello\\\\nAre you #1?\\\"\\n\",\n",
        "        \"#txt.isprintable()\\n\",\n",
        "        \"# False\\n\",\n",
        "        \"\\n\",\n",
        "        \"#------------------------------------------------------------------------------\\n\",\n",
        "        \"\\n\",\n",
        "        \"#isspace #چک میکند که تمام کاراکترهای رشته فاصله باشند\\n\",\n",
        "        \"#a = \\\"   s   \\\"\\n\",\n",
        "        \"#b = \\\"       \\\"\\n\",\n",
        "        \"\\n\",\n",
        "        \"#a.isspace() # False\\n\",\n",
        "        \"#b.isspace() # True\\n\",\n",
        "        \"\\n\",\n",
        "        \"#--------------------------------------------------------------------------------\\n\",\n",
        "        \"\\n\",\n",
        "        \"#isupper #چک میکند که تمام حروف رشته بزرگ باشند\\n\",\n",
        "        \"#txt = \\\"HELLO\\\"\\n\",\n",
        "        \"#txt.isupper()\\n\",\n",
        "        \"# True\\n\",\n",
        "        \"\\n\",\n",
        "        \"#---------------------------------------------------------------------------------\\n\"\n",
        "      ],\n",
        "      \"metadata\": {\n",
        "        \"id\": \"_-AeO7C_TSYO\"\n",
        "      },\n",
        "      \"execution_count\": null,\n",
        "      \"outputs\": []\n",
        "    }\n",
        "  ]\n",
        "}"
      ]
    }
  ]
}